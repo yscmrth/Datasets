{
  "nbformat": 4,
  "nbformat_minor": 0,
  "metadata": {
    "colab": {
      "provenance": [],
      "authorship_tag": "ABX9TyNVfP/6yHBUujp2p+oiBgOn",
      "include_colab_link": true
    },
    "kernelspec": {
      "name": "python3",
      "display_name": "Python 3"
    },
    "language_info": {
      "name": "python"
    }
  },
  "cells": [
    {
      "cell_type": "markdown",
      "metadata": {
        "id": "view-in-github",
        "colab_type": "text"
      },
      "source": [
        "<a href=\"https://colab.research.google.com/github/yscmrth/Datasets/blob/master/ML.ipynb\" target=\"_parent\"><img src=\"https://colab.research.google.com/assets/colab-badge.svg\" alt=\"Open In Colab\"/></a>"
      ]
    },
    {
      "cell_type": "markdown",
      "source": [
        "# Modelling AnimalScope\n",
        "\n",
        "### Summary\n",
        "AnimalScope is an animal recognition application which used Convolutional Neural Networks (CNN) models. CNNs are good for pattern recognition and feature detection which is especially useful in image classification. We use Tensorflow and a pre-trained Deep Learning CNN model called MobileNetv2 SSD. This model has been pre-trained for the ImageNet Dataset which contains 1000 classes.\n",
        "\n",
        "The program applies Transfer Learning to this existing model and re-trains it to classify a new set of images. We use this model to classify twenty image data sets and returns a output contains the name, characteristics, and facts about them.\n",
        "\n",
        "\n",
        "## 1. model_ssd.ipynb\n",
        "### A. Prepare the dataset\n",
        "1. Download the dataset as a zip from `https://drive.google.com/drive/folders/1yY3oPQJG7JYN4r24czmg2RKdkilAaVZR?usp=sharing`\n",
        "2. Unzip downloaded zip file\n",
        "In order to start the transfer learning process, a folder named images needs to be uploaded in the root of the project folder. This folder will contain the image data sets for all the subjects, for whom the classification is to be performed.\n",
        "\n",
        "### B. Data Preprocessing\n",
        "1. Data Integration\n",
        "Combining data from sources (Kaggle and Images.cv) into a single unified dataset.\n",
        "2. Data Cleaning\n",
        "Removing any errors and correcting inconsistent data formats.\n",
        "3. Data Transformation\n",
        "Normalizing data, standardizing and scaling and data augmentation.\n",
        "4. Data Reduction\n",
        "Features and labels extraction, sampling data.\n",
        "\n",
        "### C. Modelling Process\n",
        "1. Define the model. In this scope, the model uses the pre-trained model called SSD MobileNetv2 as the base model. The additional layers use `Conv2D,  GlobalAveragePooling2D, Flatten, and Dropout` layer with 3 layers of Keras which is a Dense layer. The activation function used in the model is `ReLu` for the first 3 additional layers. The last activation function is `softmax` to categorical-class classification\n",
        "2. Compile the model. The loss function used in this model is the `categorical_crossentropy` (this loss is optimized for categorical-class classification). To fit this model better, `Adaptive Moment Estimation (Adam)` is used for optimization, with the learning rate = `1e-4` and `accuracy` as the metric\n",
        "3. Fit the model with the `epoch of 25` and validation set as validation data\n",
        "\n",
        "### D. Evaluation\n",
        "1. Table of relevant in accuracy and loss\n",
        "```\n",
        "   | Accuracy | Val_accuracy | Loss   | Val_loss |\n",
        "   | -------- | ------------ | ------ | -------- |\n",
        "   | 0.9775   | 0.9435       | 0.0984 | 0.4518   |\n",
        "\n",
        "2. Evaluation metrics\n",
        "* Accuracy 0.935 indicates that the model succeeded in correctly predicting about 93.5% of the total sample evaluated.\n",
        "* Precision 0.938 indicates that the model can correctly predict about 93.8% of all positive predictions made.\n",
        "* Recall 0.935 indicates that the model managed to detect about 93.5% of all true positive samples.\n",
        "* F1 Score 0.935 indicates that the model has a low error rate and a good ability to classify data.\n",
        "* Test Loss 0.487 indicates the error level of the model when making predictions on the test data.\n",
        "* Test Accuracy 0.935 indicates the level of accuracy of the model when making predictions on test data."
      ],
      "metadata": {
        "id": "Y0WVMTsUd5UK"
      }
    },
    {
      "cell_type": "code",
      "source": [],
      "metadata": {
        "id": "j2wFkNdiAnmc"
      },
      "execution_count": null,
      "outputs": []
    }
  ]
}